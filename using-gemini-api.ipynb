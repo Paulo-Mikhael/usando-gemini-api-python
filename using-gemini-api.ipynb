{
  "nbformat": 4,
  "nbformat_minor": 0,
  "metadata": {
    "colab": {
      "provenance": [],
      "authorship_tag": "ABX9TyOBH+vOZO+0CE8kXLGv7GpX",
      "include_colab_link": true
    },
    "kernelspec": {
      "name": "python3",
      "display_name": "Python 3"
    },
    "language_info": {
      "name": "python"
    }
  },
  "cells": [
    {
      "cell_type": "markdown",
      "metadata": {
        "id": "view-in-github",
        "colab_type": "text"
      },
      "source": [
        "<a href=\"https://colab.research.google.com/github/Paulo-Mikhael/usando-gemini-api-python/blob/main/using-gemini-api.ipynb\" target=\"_parent\"><img src=\"https://colab.research.google.com/assets/colab-badge.svg\" alt=\"Open In Colab\"/></a>"
      ]
    },
    {
      "cell_type": "markdown",
      "source": [
        "Instalando o SDK"
      ],
      "metadata": {
        "id": "-WleQ8qAQtaW"
      }
    },
    {
      "cell_type": "code",
      "execution_count": 4,
      "metadata": {
        "id": "FnGUvboqPZAu"
      },
      "outputs": [],
      "source": [
        "!pip install -q -U google-generativeai"
      ]
    },
    {
      "cell_type": "markdown",
      "source": [
        "Importando o SDK"
      ],
      "metadata": {
        "id": "C4mYpd99QwHg"
      }
    },
    {
      "cell_type": "code",
      "source": [
        "import google.generativeai as genai\n",
        "from google.colab import userdata\n",
        "api_key = userdata.get('SECRET_KEY')\n",
        "genai.configure(api_key=api_key)"
      ],
      "metadata": {
        "id": "ylpZdzP-QXo_"
      },
      "execution_count": 27,
      "outputs": []
    },
    {
      "cell_type": "markdown",
      "source": [
        "Listar os modelos disponíveis"
      ],
      "metadata": {
        "id": "7YtmqcpLQ7T3"
      }
    },
    {
      "cell_type": "code",
      "source": [
        "for m in genai.list_models():\n",
        "  if 'generateContent' in m.supported_generation_methods:\n",
        "    print(m.name)"
      ],
      "metadata": {
        "colab": {
          "base_uri": "https://localhost:8080/",
          "height": 139
        },
        "id": "ey3gwzCYQqj7",
        "outputId": "a2e02523-6b6b-46e2-fc44-e0279f52e737"
      },
      "execution_count": 28,
      "outputs": [
        {
          "output_type": "stream",
          "name": "stdout",
          "text": [
            "models/gemini-1.0-pro\n",
            "models/gemini-1.0-pro-001\n",
            "models/gemini-1.0-pro-latest\n",
            "models/gemini-1.0-pro-vision-latest\n",
            "models/gemini-1.5-pro-latest\n",
            "models/gemini-pro\n",
            "models/gemini-pro-vision\n"
          ]
        }
      ]
    },
    {
      "cell_type": "markdown",
      "source": [
        "Definindo configurações de geração. 'candidate-count' é quantas respostas a API deve retornar. 'temperature' é a variedade de palavras que a IA vai gerar"
      ],
      "metadata": {
        "id": "FKnFw8e9UoMM"
      }
    },
    {
      "cell_type": "code",
      "source": [
        "generation_config = {\n",
        "    \"candidate_count\": 1,\n",
        "    \"temperature\": 0.5\n",
        "}"
      ],
      "metadata": {
        "id": "uYnAIF0aSta_"
      },
      "execution_count": 16,
      "outputs": []
    },
    {
      "cell_type": "markdown",
      "source": [
        "Definindo filtros."
      ],
      "metadata": {
        "id": "VSXcbF7bU9B9"
      }
    },
    {
      "cell_type": "code",
      "source": [
        "safety_settings = {\n",
        "    \"HARASSMENT\": \"BLOCK_NONE\",\n",
        "    \"HATE\": \"BLOCK_NONE\",\n",
        "    \"SEXUAL\": \"BLOCK_NONE\",\n",
        "    \"DANGEROUS\": \"BLOCK_NONE\"\n",
        "}"
      ],
      "metadata": {
        "id": "wZlH3gv_TpW6"
      },
      "execution_count": 9,
      "outputs": []
    },
    {
      "cell_type": "markdown",
      "source": [
        "Inicializando o modelo"
      ],
      "metadata": {
        "id": "tBggTqkyVLH1"
      }
    },
    {
      "cell_type": "code",
      "source": [
        "model = genai.GenerativeModel(model_name=\"gemini-1.0-pro\",\n",
        "                              safety_settings=safety_settings,\n",
        "                              generation_config=generation_config)"
      ],
      "metadata": {
        "id": "FWa0Vt2xVNxr"
      },
      "execution_count": 18,
      "outputs": []
    },
    {
      "cell_type": "markdown",
      "source": [
        "Gerando prompt"
      ],
      "metadata": {
        "id": "cChQUC-4WVX2"
      }
    },
    {
      "cell_type": "code",
      "source": [
        "response = model.generate_content(\"O que é tecnologia?\")\n",
        "print(response.text)"
      ],
      "metadata": {
        "colab": {
          "base_uri": "https://localhost:8080/",
          "height": 471
        },
        "id": "YSML4dJVV_T3",
        "outputId": "f62490af-6de9-41b8-a7e0-1ed5ccbced51"
      },
      "execution_count": 29,
      "outputs": [
        {
          "output_type": "stream",
          "name": "stdout",
          "text": [
            "Tecnologia é a aplicação de conhecimento científico para o desenvolvimento de ferramentas, máquinas, técnicas e sistemas para resolver problemas e melhorar a vida humana. Envolve o uso de recursos materiais, processos e habilidades para criar produtos, serviços e processos novos ou aprimorados.\n",
            "\n",
            "**Características da Tecnologia:**\n",
            "\n",
            "* **Baseada no conhecimento:** Fundamentada em princípios científicos e teóricos.\n",
            "* **Aplicada:** Usada para resolver problemas práticos e melhorar a eficiência.\n",
            "* **Inovadora:** Gera novas ideias, produtos e processos.\n",
            "* **Evolutiva:** Avança e se adapta continuamente com o tempo.\n",
            "* **Multidisciplinar:** Envolve várias áreas de conhecimento, como engenharia, ciência da computação, biologia e design.\n",
            "\n",
            "**Tipos de Tecnologia:**\n",
            "\n",
            "* **Tecnologia de Hardware:** Dispositivos físicos, como computadores, telefones celulares e equipamentos médicos.\n",
            "* **Tecnologia de Software:** Programas e aplicativos que controlam e operam dispositivos de hardware.\n",
            "* **Tecnologia de Rede:** Sistemas que conectam dispositivos e permitem a comunicação e transferência de dados.\n",
            "* **Tecnologia de Processo:** Métodos e procedimentos para executar tarefas e produzir resultados.\n",
            "* **Tecnologia de Materiais:** Novos materiais e técnicas para melhorar as propriedades e o desempenho dos produtos.\n",
            "\n",
            "**Impactos da Tecnologia:**\n",
            "\n",
            "* **Melhoria da qualidade de vida:** Aumenta a produtividade, o conforto e a conveniência.\n",
            "* **Avanços na saúde:** Diagnóstico e tratamentos aprimorados, levando a melhores resultados de saúde.\n",
            "* **Comunicação aprimorada:** Conecta pessoas e permite o compartilhamento instantâneo de informações.\n",
            "* **Automação:** Substitui o trabalho humano, liberando tempo e recursos para outras atividades.\n",
            "* **Desafios éticos:** Levanta questões sobre privacidade, segurança e equidade no acesso à tecnologia.\n"
          ]
        }
      ]
    },
    {
      "cell_type": "markdown",
      "source": [
        "Iniciando chat"
      ],
      "metadata": {
        "id": "M_Do9iRVZQ3y"
      }
    },
    {
      "cell_type": "code",
      "source": [
        "chat = model.start_chat(history=[])"
      ],
      "metadata": {
        "id": "vY0erEUUXecd"
      },
      "execution_count": 21,
      "outputs": []
    },
    {
      "cell_type": "markdown",
      "source": [
        "Preparando prompt e colocando a pergunta no histórico do chat da IA"
      ],
      "metadata": {
        "id": "uEjTbmuHZSiK"
      }
    },
    {
      "cell_type": "code",
      "source": [
        "prompt = input(\"Esperando prompt: \")\n",
        "\n",
        "while prompt != \"fim\":\n",
        "  response = chat.send_message(prompt)\n",
        "  print(\"Resposta: \", response.text, \"\\n\")\n",
        "  prompt = input(\"Esperando prompt: \")"
      ],
      "metadata": {
        "id": "IzJmq7R-X8IJ"
      },
      "execution_count": null,
      "outputs": []
    },
    {
      "cell_type": "markdown",
      "source": [
        "Mostrando histórico"
      ],
      "metadata": {
        "id": "yXXMTwjEj0ta"
      }
    },
    {
      "cell_type": "code",
      "source": [
        "import textwrap\n",
        "from IPython.display import display\n",
        "from IPython.display import Markdown\n",
        "\n",
        "def to_markdown(text):\n",
        "    text = text.replace(\";\", \"\\;\")\n",
        "    return Markdown(textwrap.indent(text, \" > \"))\n",
        "\n",
        "#Imprimindo o histórico\n",
        "for message in chat.history:\n",
        "    display(to_markdown(f\"**{message.role}:** {message.parts[0].text}\"))\n",
        "    print(\"-----------------------\")"
      ],
      "metadata": {
        "id": "NjYehySEcKuJ"
      },
      "execution_count": null,
      "outputs": []
    }
  ]
}